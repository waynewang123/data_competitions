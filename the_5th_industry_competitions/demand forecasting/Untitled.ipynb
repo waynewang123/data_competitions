{
 "cells": [
  {
   "cell_type": "code",
   "execution_count": 38,
   "id": "734f26e5-9676-43a4-97d9-ba98b4c0344b",
   "metadata": {},
   "outputs": [],
   "source": [
    "import pandas as pd\n",
    "import numpy as np\n",
    "import matplotlib.pyplot as plt"
   ]
  },
  {
   "cell_type": "code",
   "execution_count": 8,
   "id": "574d1943-ab5e-4faa-96a0-9c98748d80cf",
   "metadata": {},
   "outputs": [],
   "source": [
    "demand = pd.read_csv('demand_train.csv')\n",
    "stock = pd.read_csv('stock_train.csv')\n",
    "sample_submission = pd.read_csv(\"提交结果模板.csv\")"
   ]
  },
  {
   "cell_type": "code",
   "execution_count": 23,
   "id": "232e8a00-a0a1-4cb3-bf05-237155c06b0c",
   "metadata": {},
   "outputs": [],
   "source": [
    "demand_cols_mapping = {\n",
    "    '过账日期':'date',\n",
    "    '需求量':'demand_amount',\n",
    "    '工厂编码':'factory_code',\n",
    "    '物料编码':'material_code',\n",
    "    '物料品牌':'material_brand',\n",
    "    '物料类型':'material_type',\n",
    "    '物料品类':'material_category'\n",
    "}\n",
    "stock_cols_mapping = {\n",
    "    '过账日期':'date',\n",
    "    '库存量':'storage_amount',\n",
    "    '工厂编码':'factory_code',\n",
    "    '物料编码':'material_code',\n",
    "    '物料品牌':'material_brand',\n",
    "    '物料类型':'material_type',\n",
    "    '物料品类':'material_category'\n",
    "}"
   ]
  },
  {
   "cell_type": "code",
   "execution_count": 54,
   "id": "a3f07dc4-2b3f-44e3-9369-48fd84a392f0",
   "metadata": {},
   "outputs": [],
   "source": [
    "demand = demand.rename(columns = demand_cols_mapping)\n",
    "stock = stock.rename(columns = stock_cols_mapping)\n",
    "demand['date'] = pd.to_datetime(demand['date'])\n",
    "stock['date'] = pd.to_datetime(stock['date'])"
   ]
  },
  {
   "cell_type": "code",
   "execution_count": 55,
   "id": "f3b38e43-9e71-4b37-95d5-6c4ee1186edc",
   "metadata": {},
   "outputs": [
    {
     "data": {
      "text/html": [
       "<div>\n",
       "<style scoped>\n",
       "    .dataframe tbody tr th:only-of-type {\n",
       "        vertical-align: middle;\n",
       "    }\n",
       "\n",
       "    .dataframe tbody tr th {\n",
       "        vertical-align: top;\n",
       "    }\n",
       "\n",
       "    .dataframe thead th {\n",
       "        text-align: right;\n",
       "    }\n",
       "</style>\n",
       "<table border=\"1\" class=\"dataframe\">\n",
       "  <thead>\n",
       "    <tr style=\"text-align: right;\">\n",
       "      <th></th>\n",
       "      <th>date</th>\n",
       "      <th>demand_amount</th>\n",
       "      <th>factory_code</th>\n",
       "      <th>material_code</th>\n",
       "      <th>material_brand</th>\n",
       "      <th>material_type</th>\n",
       "      <th>material_category</th>\n",
       "    </tr>\n",
       "  </thead>\n",
       "  <tbody>\n",
       "    <tr>\n",
       "      <th>0</th>\n",
       "      <td>2018-01-06</td>\n",
       "      <td>0.33</td>\n",
       "      <td>2004</td>\n",
       "      <td>1000</td>\n",
       "      <td>5000</td>\n",
       "      <td>3002</td>\n",
       "      <td>4014</td>\n",
       "    </tr>\n",
       "    <tr>\n",
       "      <th>1</th>\n",
       "      <td>2018-01-08</td>\n",
       "      <td>0.09</td>\n",
       "      <td>2010</td>\n",
       "      <td>1000</td>\n",
       "      <td>5000</td>\n",
       "      <td>3002</td>\n",
       "      <td>4014</td>\n",
       "    </tr>\n",
       "    <tr>\n",
       "      <th>2</th>\n",
       "      <td>2018-01-09</td>\n",
       "      <td>0.09</td>\n",
       "      <td>2008</td>\n",
       "      <td>1000</td>\n",
       "      <td>5000</td>\n",
       "      <td>3002</td>\n",
       "      <td>4014</td>\n",
       "    </tr>\n",
       "    <tr>\n",
       "      <th>3</th>\n",
       "      <td>2018-01-10</td>\n",
       "      <td>0.10</td>\n",
       "      <td>2010</td>\n",
       "      <td>1000</td>\n",
       "      <td>5000</td>\n",
       "      <td>3002</td>\n",
       "      <td>4014</td>\n",
       "    </tr>\n",
       "    <tr>\n",
       "      <th>4</th>\n",
       "      <td>2018-01-11</td>\n",
       "      <td>0.17</td>\n",
       "      <td>2004</td>\n",
       "      <td>1000</td>\n",
       "      <td>5000</td>\n",
       "      <td>3002</td>\n",
       "      <td>4014</td>\n",
       "    </tr>\n",
       "  </tbody>\n",
       "</table>\n",
       "</div>"
      ],
      "text/plain": [
       "        date  demand_amount  factory_code  material_code  material_brand  \\\n",
       "0 2018-01-06           0.33          2004           1000            5000   \n",
       "1 2018-01-08           0.09          2010           1000            5000   \n",
       "2 2018-01-09           0.09          2008           1000            5000   \n",
       "3 2018-01-10           0.10          2010           1000            5000   \n",
       "4 2018-01-11           0.17          2004           1000            5000   \n",
       "\n",
       "   material_type  material_category  \n",
       "0           3002               4014  \n",
       "1           3002               4014  \n",
       "2           3002               4014  \n",
       "3           3002               4014  \n",
       "4           3002               4014  "
      ]
     },
     "execution_count": 55,
     "metadata": {},
     "output_type": "execute_result"
    }
   ],
   "source": [
    "demand.head()"
   ]
  },
  {
   "cell_type": "code",
   "execution_count": 56,
   "id": "699801bf-6c97-427d-9779-26f637c4323d",
   "metadata": {},
   "outputs": [
    {
     "data": {
      "text/html": [
       "<div>\n",
       "<style scoped>\n",
       "    .dataframe tbody tr th:only-of-type {\n",
       "        vertical-align: middle;\n",
       "    }\n",
       "\n",
       "    .dataframe tbody tr th {\n",
       "        vertical-align: top;\n",
       "    }\n",
       "\n",
       "    .dataframe thead th {\n",
       "        text-align: right;\n",
       "    }\n",
       "</style>\n",
       "<table border=\"1\" class=\"dataframe\">\n",
       "  <thead>\n",
       "    <tr style=\"text-align: right;\">\n",
       "      <th></th>\n",
       "      <th>date</th>\n",
       "      <th>factory_code</th>\n",
       "      <th>material_code</th>\n",
       "      <th>material_brand</th>\n",
       "      <th>material_type</th>\n",
       "      <th>material_category</th>\n",
       "      <th>storage_amount</th>\n",
       "    </tr>\n",
       "  </thead>\n",
       "  <tbody>\n",
       "    <tr>\n",
       "      <th>0</th>\n",
       "      <td>2018-01-24</td>\n",
       "      <td>2000</td>\n",
       "      <td>1001</td>\n",
       "      <td>5000</td>\n",
       "      <td>3002</td>\n",
       "      <td>4006</td>\n",
       "      <td>2.71</td>\n",
       "    </tr>\n",
       "    <tr>\n",
       "      <th>1</th>\n",
       "      <td>2018-01-24</td>\n",
       "      <td>2000</td>\n",
       "      <td>1003</td>\n",
       "      <td>5000</td>\n",
       "      <td>3002</td>\n",
       "      <td>4005</td>\n",
       "      <td>6.84</td>\n",
       "    </tr>\n",
       "    <tr>\n",
       "      <th>2</th>\n",
       "      <td>2018-01-24</td>\n",
       "      <td>2000</td>\n",
       "      <td>1014</td>\n",
       "      <td>5000</td>\n",
       "      <td>3002</td>\n",
       "      <td>4008</td>\n",
       "      <td>1.28</td>\n",
       "    </tr>\n",
       "    <tr>\n",
       "      <th>3</th>\n",
       "      <td>2018-01-24</td>\n",
       "      <td>2000</td>\n",
       "      <td>1021</td>\n",
       "      <td>5000</td>\n",
       "      <td>3002</td>\n",
       "      <td>4006</td>\n",
       "      <td>1.04</td>\n",
       "    </tr>\n",
       "    <tr>\n",
       "      <th>4</th>\n",
       "      <td>2018-01-24</td>\n",
       "      <td>2000</td>\n",
       "      <td>1027</td>\n",
       "      <td>5001</td>\n",
       "      <td>3002</td>\n",
       "      <td>4014</td>\n",
       "      <td>2.63</td>\n",
       "    </tr>\n",
       "  </tbody>\n",
       "</table>\n",
       "</div>"
      ],
      "text/plain": [
       "        date  factory_code  material_code  material_brand  material_type  \\\n",
       "0 2018-01-24          2000           1001            5000           3002   \n",
       "1 2018-01-24          2000           1003            5000           3002   \n",
       "2 2018-01-24          2000           1014            5000           3002   \n",
       "3 2018-01-24          2000           1021            5000           3002   \n",
       "4 2018-01-24          2000           1027            5001           3002   \n",
       "\n",
       "   material_category  storage_amount  \n",
       "0               4006            2.71  \n",
       "1               4005            6.84  \n",
       "2               4008            1.28  \n",
       "3               4006            1.04  \n",
       "4               4014            2.63  "
      ]
     },
     "execution_count": 56,
     "metadata": {},
     "output_type": "execute_result"
    }
   ],
   "source": [
    "stock.head()"
   ]
  },
  {
   "cell_type": "code",
   "execution_count": 57,
   "id": "33b326af-fd2d-4483-997d-2d1c9314298a",
   "metadata": {},
   "outputs": [],
   "source": [
    "demand_df = demand.groupby(['date','factory_code','material_code'],as_index = False)['demand_amount'].sum()"
   ]
  },
  {
   "cell_type": "code",
   "execution_count": 58,
   "id": "62ab0067-b112-4077-808f-30b74c60f8a0",
   "metadata": {},
   "outputs": [],
   "source": [
    "stock_df = stock.groupby(['date','factory_code','material_code'],as_index = False)['storage_amount'].sum()"
   ]
  },
  {
   "cell_type": "code",
   "execution_count": 59,
   "id": "f0065aed-4173-4016-80b2-18856a48201e",
   "metadata": {},
   "outputs": [
    {
     "data": {
      "text/html": [
       "<div>\n",
       "<style scoped>\n",
       "    .dataframe tbody tr th:only-of-type {\n",
       "        vertical-align: middle;\n",
       "    }\n",
       "\n",
       "    .dataframe tbody tr th {\n",
       "        vertical-align: top;\n",
       "    }\n",
       "\n",
       "    .dataframe thead th {\n",
       "        text-align: right;\n",
       "    }\n",
       "</style>\n",
       "<table border=\"1\" class=\"dataframe\">\n",
       "  <thead>\n",
       "    <tr style=\"text-align: right;\">\n",
       "      <th></th>\n",
       "      <th>date</th>\n",
       "      <th>factory_code</th>\n",
       "      <th>material_code</th>\n",
       "      <th>demand_amount</th>\n",
       "    </tr>\n",
       "  </thead>\n",
       "  <tbody>\n",
       "    <tr>\n",
       "      <th>0</th>\n",
       "      <td>2018-01-01</td>\n",
       "      <td>2001</td>\n",
       "      <td>1029</td>\n",
       "      <td>1.29</td>\n",
       "    </tr>\n",
       "    <tr>\n",
       "      <th>1</th>\n",
       "      <td>2018-01-01</td>\n",
       "      <td>2001</td>\n",
       "      <td>1051</td>\n",
       "      <td>0.09</td>\n",
       "    </tr>\n",
       "    <tr>\n",
       "      <th>2</th>\n",
       "      <td>2018-01-01</td>\n",
       "      <td>2001</td>\n",
       "      <td>1054</td>\n",
       "      <td>0.70</td>\n",
       "    </tr>\n",
       "    <tr>\n",
       "      <th>3</th>\n",
       "      <td>2018-01-01</td>\n",
       "      <td>2001</td>\n",
       "      <td>1159</td>\n",
       "      <td>1.24</td>\n",
       "    </tr>\n",
       "    <tr>\n",
       "      <th>4</th>\n",
       "      <td>2018-01-01</td>\n",
       "      <td>2001</td>\n",
       "      <td>1167</td>\n",
       "      <td>6.40</td>\n",
       "    </tr>\n",
       "  </tbody>\n",
       "</table>\n",
       "</div>"
      ],
      "text/plain": [
       "        date  factory_code  material_code  demand_amount\n",
       "0 2018-01-01          2001           1029           1.29\n",
       "1 2018-01-01          2001           1051           0.09\n",
       "2 2018-01-01          2001           1054           0.70\n",
       "3 2018-01-01          2001           1159           1.24\n",
       "4 2018-01-01          2001           1167           6.40"
      ]
     },
     "execution_count": 59,
     "metadata": {},
     "output_type": "execute_result"
    }
   ],
   "source": [
    "demand_df.head()"
   ]
  },
  {
   "cell_type": "code",
   "execution_count": 60,
   "id": "c3f3be14-088e-4df2-bef4-c1e52bf32078",
   "metadata": {},
   "outputs": [
    {
     "name": "stdout",
     "output_type": "stream",
     "text": [
      "<class 'pandas.core.frame.DataFrame'>\n",
      "Int64Index: 248503 entries, 0 to 248502\n",
      "Data columns (total 4 columns):\n",
      " #   Column         Non-Null Count   Dtype         \n",
      "---  ------         --------------   -----         \n",
      " 0   date           248503 non-null  datetime64[ns]\n",
      " 1   factory_code   248503 non-null  int64         \n",
      " 2   material_code  248503 non-null  int64         \n",
      " 3   demand_amount  248503 non-null  float64       \n",
      "dtypes: datetime64[ns](1), float64(1), int64(2)\n",
      "memory usage: 9.5 MB\n"
     ]
    }
   ],
   "source": [
    "demand_df.info()"
   ]
  },
  {
   "cell_type": "markdown",
   "id": "c3e5ae02-8dcd-42a3-81f3-5a2a2e8c2cf6",
   "metadata": {},
   "source": [
    "## EDA"
   ]
  },
  {
   "cell_type": "code",
   "execution_count": 61,
   "id": "dd4c4035-5b05-4833-bb39-2af848993738",
   "metadata": {},
   "outputs": [
    {
     "data": {
      "image/png": "[encoded data removed]",
      "text/plain": [
       "<Figure size 864x576 with 1 Axes>"
      ]
     },
     "metadata": {
      "needs_background": "light"
     },
     "output_type": "display_data"
    }
   ],
   "source": [
    "# Look at the data\n",
    "plt.figure(figsize=(12, 8))\n",
    "plt.plot(demand_df[(demand_df.factory_code == 2001) & (demand_df.material_code == 1029)]['demand_amount'].diff())\n",
    "plt.title(\"Train data for factory 2001:material 1029\")\n",
    "plt.show()"
   ]
  },
  {
   "cell_type": "code",
   "execution_count": 62,
   "id": "a3913099-c9d8-4096-bf56-a4a6c1f911a5",
   "metadata": {},
   "outputs": [
    {
     "data": {
      "text/plain": [
       "(Timestamp('2018-01-01 00:00:00'), Timestamp('2020-11-24 00:00:00'))"
      ]
     },
     "execution_count": 62,
     "metadata": {},
     "output_type": "execute_result"
    }
   ],
   "source": [
    "demand_df.date.min(),demand_df.date.max()"
   ]
  },
  {
   "cell_type": "code",
   "execution_count": 63,
   "id": "c37a1e18-4b94-44b6-bff0-6e66fdf81a47",
   "metadata": {},
   "outputs": [],
   "source": [
    "train = demand_df[demand_df.date < '2020-08-24']\n",
    "test = demand_df[demand_df.date >= '2020-08-24']"
   ]
  },
  {
   "cell_type": "code",
   "execution_count": 64,
   "id": "bbe71d72-96cf-4faf-8d9a-92e4c1f396cd",
   "metadata": {},
   "outputs": [
    {
     "data": {
      "text/plain": [
       "Timedelta('93 days 00:00:00')"
      ]
     },
     "execution_count": 64,
     "metadata": {},
     "output_type": "execute_result"
    }
   ],
   "source": [
    "model_delta = max(test.date) - max(train.date)\n",
    "model_delta"
   ]
  },
  {
   "cell_type": "markdown",
   "id": "03c8ec94-138d-41e3-9f48-31ab9c8ab065",
   "metadata": {},
   "source": [
    "## Feature engineering"
   ]
  },
  {
   "cell_type": "code",
   "execution_count": 43,
   "id": "f5c6c553-ea06-42e9-9cfe-40d2468043d1",
   "metadata": {},
   "outputs": [],
   "source": [
    "def get_date_features(df):\n",
    "    \n",
    "    # Add date-specific features\n",
    "    df['dayofweek'] = df.index.dayofweek\n",
    "    df['is_weekend'] = df.index.dayofweek // 5\n",
    "    df['day'] = df.index.day\n",
    "    df['month'] = df.index.month\n",
    "    df['year'] = df.index.year\n",
    "    df['dayofyear'] = df.index.dayofyear\n",
    "    df['weekofyear'] = df.index.weekofyear\n",
    "\n",
    "    return df"
   ]
  },
  {
   "cell_type": "code",
   "execution_count": null,
   "id": "c4c3e0e8-213a-4845-9657-9b55d28bbfef",
   "metadata": {},
   "outputs": [],
   "source": [
    "def generate_features(train, test):\n",
    "\n",
    "    # Get the time delta between last test and last train observations\n",
    "    model_delta = max(test.index) - max(train.index)\n",
    "\n",
    "    # Initialize variables\n",
    "    lags = [model_delta.days]\n",
    "    window = 7\n",
    "    lag_features = []\n",
    "\n",
    "    # Concatenate train and test together\n",
    "    data = pd.concat([train, test], sort=False)\n",
    "\n",
    "    for lag in lags:\n",
    "        feat = data.groupby([\"factory_code\", \"material_code\"])[[\"demand_amount\"]].rolling(window=window).mean().shift(lag)\n",
    "        feat.columns = ['demand_mean_lag_{}'.format(lag)]\n",
    "        lag_features.append(feat)\n",
    "\n",
    "        feat = data.groupby([\"factory_code\", \"material_code\"])[[\"demand_amount\"]].rolling(window=window).std().shift(lag)\n",
    "        feat.columns = ['demand_std_lag_{}'.format(lag)]\n",
    "        lag_features.append(feat)\n",
    "\n",
    "    # Concatenate all features together\n",
    "    lag_features = pd.concat(lag_features, axis=1)\n",
    "\n",
    "    # Add date features to the train and test\n",
    "    train = get_date_features(train)\n",
    "    test = get_date_features(test)\n",
    "\n",
    "    # Join lag features to the train and test by (store, item, date)\n",
    "    train.set_index([\"factory_code\", \"material_code\"], append=True, inplace=True)\n",
    "    train = train.reorder_levels([\"factory_code\", \"material_code\", \"date\"])\n",
    "    test.set_index([\"factory_code\", \"material_code\"], append=True, inplace=True)\n",
    "    test = test.reorder_levels([\"factory_code\", \"material_code\", \"date\"])\n",
    "\n",
    "    train = train.join(lag_features)\n",
    "    test = test.join(lag_features)\n",
    "\n",
    "    # Resetting index back\n",
    "    train.reset_index(level=[0, 1], inplace=True)\n",
    "    test.reset_index(level=[0, 1], inplace=True)\n",
    "    \n",
    "    return train, test, model_delta, window"
   ]
  }
 ],
 "metadata": {
  "kernelspec": {
   "display_name": "Python 3",
   "language": "python",
   "name": "python3"
  },
  "language_info": {
   "codemirror_mode": {
    "name": "ipython",
    "version": 3
   },
   "file_extension": ".py",
   "mimetype": "text/x-python",
   "name": "python",
   "nbconvert_exporter": "python",
   "pygments_lexer": "ipython3",
   "version": "3.8.8"
  }
 },
 "nbformat": 4,
 "nbformat_minor": 5
}
